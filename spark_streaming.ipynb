{
 "cells": [
  {
   "cell_type": "code",
   "execution_count": 33,
   "id": "initial_id",
   "metadata": {
    "ExecuteTime": {
     "end_time": "2025-10-07T07:19:57.252325Z",
     "start_time": "2025-10-07T07:10:25.571590Z"
    },
    "collapsed": true
   },
   "outputs": [
    {
     "name": "stderr",
     "output_type": "stream",
     "text": [
      "25/10/07 11:57:12 WARN ResolveWriteToStream: Temporary checkpoint location created which is deleted normally when the query didn't fail: /tmp/temporary-00ba690b-a458-4457-baa8-9d94f2c0c3f1. If it's required to delete it under any circumstances, please set spark.sql.streaming.forceDeleteTempCheckpointLocation to true. Important to know deleting temp checkpoint folder is best effort.\n",
      "25/10/07 11:57:12 WARN ResolveWriteToStream: spark.sql.adaptive.enabled is not supported in streaming DataFrames/Datasets and will be disabled.\n",
      "25/10/07 11:57:13 WARN NetworkClient: [AdminClient clientId=adminclient-31] Connection to node -1 (localhost/127.0.0.1:9092) could not be established. Broker may not be available.\n"
     ]
    },
    {
     "name": "stdout",
     "output_type": "stream",
     "text": [
      "-------------------------------------------\n",
      "Batch: 0\n",
      "-------------------------------------------\n",
      "+----+--------------------+-------------+---------+------+--------------------+-------------+\n",
      "| key|               value|        topic|partition|offset|           timestamp|timestampType|\n",
      "+----+--------------------+-------------+---------+------+--------------------+-------------+\n",
      "|null|[22 7B 5C 22 69 6...|topic-persons|        0|     0|2025-10-07 09:40:...|            0|\n",
      "|null|[22 7B 5C 22 69 6...|topic-persons|        0|     1|2025-10-07 09:40:...|            0|\n",
      "|null|[22 7B 5C 22 69 6...|topic-persons|        0|     2|2025-10-07 09:40:...|            0|\n",
      "|null|[22 7B 5C 22 69 6...|topic-persons|        0|     3|2025-10-07 09:40:...|            0|\n",
      "|null|[22 7B 5C 22 69 6...|topic-persons|        0|     4|2025-10-07 09:40:...|            0|\n",
      "|null|[22 7B 5C 22 69 6...|topic-persons|        0|     5|2025-10-07 09:40:...|            0|\n",
      "|null|[22 7B 5C 22 69 6...|topic-persons|        0|     6|2025-10-07 09:40:...|            0|\n",
      "|null|[22 7B 5C 22 69 6...|topic-persons|        0|     7|2025-10-07 09:40:...|            0|\n",
      "|null|[22 7B 5C 22 69 6...|topic-persons|        0|     8|2025-10-07 09:40:...|            0|\n",
      "|null|[22 7B 5C 22 69 6...|topic-persons|        0|     9|2025-10-07 09:40:...|            0|\n",
      "|null|[22 7B 5C 22 69 6...|topic-persons|        0|    10|2025-10-07 09:40:...|            0|\n",
      "|null|[22 7B 5C 22 69 6...|topic-persons|        0|    11|2025-10-07 09:40:...|            0|\n",
      "|null|[22 7B 5C 22 69 6...|topic-persons|        0|    12|2025-10-07 09:40:...|            0|\n",
      "|null|[22 7B 5C 22 69 6...|topic-persons|        0|    13|2025-10-07 09:40:...|            0|\n",
      "|null|[22 7B 5C 22 69 6...|topic-persons|        0|    14|2025-10-07 09:40:...|            0|\n",
      "|null|[22 7B 5C 22 69 6...|topic-persons|        0|    15|2025-10-07 09:40:...|            0|\n",
      "|null|[22 7B 5C 22 69 6...|topic-persons|        0|    16|2025-10-07 09:40:...|            0|\n",
      "|null|[22 7B 5C 22 69 6...|topic-persons|        0|    17|2025-10-07 09:40:...|            0|\n",
      "|null|[22 7B 5C 22 69 6...|topic-persons|        0|    18|2025-10-07 09:40:...|            0|\n",
      "|null|[22 7B 5C 22 69 6...|topic-persons|        0|    19|2025-10-07 09:40:...|            0|\n",
      "+----+--------------------+-------------+---------+------+--------------------+-------------+\n",
      "only showing top 20 rows\n",
      "\n"
     ]
    },
    {
     "name": "stderr",
     "output_type": "stream",
     "text": [
      "25/10/07 11:57:14 WARN NetworkClient: [AdminClient clientId=adminclient-31] Connection to node -1 (localhost/127.0.0.1:9092) could not be established. Broker may not be available.\n",
      "25/10/07 11:57:15 WARN NetworkClient: [AdminClient clientId=adminclient-31] Connection to node -1 (localhost/127.0.0.1:9092) could not be established. Broker may not be available.\n",
      "25/10/07 11:57:16 WARN NetworkClient: [AdminClient clientId=adminclient-31] Connection to node -1 (localhost/127.0.0.1:9092) could not be established. Broker may not be available.\n",
      "25/10/07 11:57:17 WARN NetworkClient: [AdminClient clientId=adminclient-31] Connection to node -1 (localhost/127.0.0.1:9092) could not be established. Broker may not be available.\n",
      "25/10/07 11:57:18 WARN KafkaOffsetReaderAdmin: Error in attempt 3 getting Kafka offsets: \n",
      "java.util.concurrent.ExecutionException: org.apache.kafka.common.errors.TimeoutException: Timed out waiting for a node assignment. Call: describeTopics\n",
      "\tat java.base/java.util.concurrent.CompletableFuture.reportGet(CompletableFuture.java:396)\n",
      "\tat java.base/java.util.concurrent.CompletableFuture.get(CompletableFuture.java:2073)\n",
      "\tat org.apache.kafka.common.internals.KafkaFutureImpl.get(KafkaFutureImpl.java:165)\n",
      "\tat org.apache.spark.sql.kafka010.ConsumerStrategy.retrieveAllPartitions(ConsumerStrategy.scala:66)\n",
      "\tat org.apache.spark.sql.kafka010.ConsumerStrategy.retrieveAllPartitions$(ConsumerStrategy.scala:65)\n",
      "\tat org.apache.spark.sql.kafka010.SubscribeStrategy.retrieveAllPartitions(ConsumerStrategy.scala:102)\n",
      "\tat org.apache.spark.sql.kafka010.SubscribeStrategy.assignedTopicPartitions(ConsumerStrategy.scala:113)\n",
      "\tat org.apache.spark.sql.kafka010.KafkaOffsetReaderAdmin.$anonfun$partitionsAssignedToAdmin$1(KafkaOffsetReaderAdmin.scala:499)\n",
      "\tat org.apache.spark.sql.kafka010.KafkaOffsetReaderAdmin.withRetries(KafkaOffsetReaderAdmin.scala:518)\n",
      "\tat org.apache.spark.sql.kafka010.KafkaOffsetReaderAdmin.partitionsAssignedToAdmin(KafkaOffsetReaderAdmin.scala:498)\n",
      "\tat org.apache.spark.sql.kafka010.KafkaOffsetReaderAdmin.fetchEarliestOffsets(KafkaOffsetReaderAdmin.scala:288)\n",
      "\tat org.apache.spark.sql.kafka010.KafkaMicroBatchStream.$anonfun$getOrCreateInitialPartitionOffsets$1(KafkaMicroBatchStream.scala:249)\n",
      "\tat scala.Option.getOrElse(Option.scala:189)\n",
      "\tat org.apache.spark.sql.kafka010.KafkaMicroBatchStream.getOrCreateInitialPartitionOffsets(KafkaMicroBatchStream.scala:246)\n",
      "\tat org.apache.spark.sql.kafka010.KafkaMicroBatchStream.initialOffset(KafkaMicroBatchStream.scala:98)\n",
      "\tat org.apache.spark.sql.execution.streaming.MicroBatchExecution.$anonfun$getStartOffset$2(MicroBatchExecution.scala:455)\n",
      "\tat scala.Option.getOrElse(Option.scala:189)\n",
      "\tat org.apache.spark.sql.execution.streaming.MicroBatchExecution.getStartOffset(MicroBatchExecution.scala:455)\n",
      "\tat org.apache.spark.sql.execution.streaming.MicroBatchExecution.$anonfun$constructNextBatch$4(MicroBatchExecution.scala:489)\n",
      "\tat org.apache.spark.sql.execution.streaming.ProgressReporter.reportTimeTaken(ProgressReporter.scala:411)\n",
      "\tat org.apache.spark.sql.execution.streaming.ProgressReporter.reportTimeTaken$(ProgressReporter.scala:409)\n",
      "\tat org.apache.spark.sql.execution.streaming.StreamExecution.reportTimeTaken(StreamExecution.scala:67)\n",
      "\tat org.apache.spark.sql.execution.streaming.MicroBatchExecution.$anonfun$constructNextBatch$2(MicroBatchExecution.scala:488)\n",
      "\tat scala.collection.TraversableLike.$anonfun$map$1(TraversableLike.scala:286)\n",
      "\tat scala.collection.Iterator.foreach(Iterator.scala:943)\n",
      "\tat scala.collection.Iterator.foreach$(Iterator.scala:943)\n",
      "\tat scala.collection.AbstractIterator.foreach(Iterator.scala:1431)\n",
      "\tat scala.collection.IterableLike.foreach(IterableLike.scala:74)\n",
      "\tat scala.collection.IterableLike.foreach$(IterableLike.scala:73)\n",
      "\tat scala.collection.AbstractIterable.foreach(Iterable.scala:56)\n",
      "\tat scala.collection.TraversableLike.map(TraversableLike.scala:286)\n",
      "\tat scala.collection.TraversableLike.map$(TraversableLike.scala:279)\n",
      "\tat scala.collection.AbstractTraversable.map(Traversable.scala:108)\n",
      "\tat org.apache.spark.sql.execution.streaming.MicroBatchExecution.$anonfun$constructNextBatch$1(MicroBatchExecution.scala:477)\n",
      "\tat scala.runtime.java8.JFunction0$mcZ$sp.apply(JFunction0$mcZ$sp.java:23)\n",
      "\tat org.apache.spark.sql.execution.streaming.MicroBatchExecution.withProgressLocked(MicroBatchExecution.scala:802)\n",
      "\tat org.apache.spark.sql.execution.streaming.MicroBatchExecution.constructNextBatch(MicroBatchExecution.scala:473)\n",
      "\tat org.apache.spark.sql.execution.streaming.MicroBatchExecution.$anonfun$runActivatedStream$2(MicroBatchExecution.scala:266)\n",
      "\tat scala.runtime.java8.JFunction0$mcV$sp.apply(JFunction0$mcV$sp.java:23)\n",
      "\tat org.apache.spark.sql.execution.streaming.ProgressReporter.reportTimeTaken(ProgressReporter.scala:411)\n",
      "\tat org.apache.spark.sql.execution.streaming.ProgressReporter.reportTimeTaken$(ProgressReporter.scala:409)\n",
      "\tat org.apache.spark.sql.execution.streaming.StreamExecution.reportTimeTaken(StreamExecution.scala:67)\n",
      "\tat org.apache.spark.sql.execution.streaming.MicroBatchExecution.$anonfun$runActivatedStream$1(MicroBatchExecution.scala:247)\n",
      "\tat org.apache.spark.sql.execution.streaming.ProcessingTimeExecutor.execute(TriggerExecutor.scala:67)\n",
      "\tat org.apache.spark.sql.execution.streaming.MicroBatchExecution.runActivatedStream(MicroBatchExecution.scala:237)\n",
      "\tat org.apache.spark.sql.execution.streaming.StreamExecution.$anonfun$runStream$1(StreamExecution.scala:306)\n",
      "\tat scala.runtime.java8.JFunction0$mcV$sp.apply(JFunction0$mcV$sp.java:23)\n",
      "\tat org.apache.spark.sql.SparkSession.withActive(SparkSession.scala:827)\n",
      "\tat org.apache.spark.sql.execution.streaming.StreamExecution.org$apache$spark$sql$execution$streaming$StreamExecution$$runStream(StreamExecution.scala:284)\n",
      "\tat org.apache.spark.sql.execution.streaming.StreamExecution$$anon$1.run(StreamExecution.scala:207)\n",
      "Caused by: org.apache.kafka.common.errors.TimeoutException: Timed out waiting for a node assignment. Call: describeTopics\n",
      "25/10/07 11:57:18 WARN NetworkClient: [AdminClient clientId=adminclient-31] Connection to node -1 (localhost/127.0.0.1:9092) could not be established. Broker may not be available.\n",
      "25/10/07 11:57:19 ERROR MicroBatchExecution: Query [id = 7ff88edc-12f4-41cb-a6f4-b2eff0a11d66, runId = ba0b3a04-dbad-4db8-b5f6-cdf19204aef0] terminated with error\n",
      "java.util.concurrent.ExecutionException: org.apache.kafka.common.errors.TimeoutException: Timed out waiting for a node assignment. Call: describeTopics\n",
      "\tat java.base/java.util.concurrent.CompletableFuture.reportGet(CompletableFuture.java:396)\n",
      "\tat java.base/java.util.concurrent.CompletableFuture.get(CompletableFuture.java:2073)\n",
      "\tat org.apache.kafka.common.internals.KafkaFutureImpl.get(KafkaFutureImpl.java:165)\n",
      "\tat org.apache.spark.sql.kafka010.ConsumerStrategy.retrieveAllPartitions(ConsumerStrategy.scala:66)\n",
      "\tat org.apache.spark.sql.kafka010.ConsumerStrategy.retrieveAllPartitions$(ConsumerStrategy.scala:65)\n",
      "\tat org.apache.spark.sql.kafka010.SubscribeStrategy.retrieveAllPartitions(ConsumerStrategy.scala:102)\n",
      "\tat org.apache.spark.sql.kafka010.SubscribeStrategy.assignedTopicPartitions(ConsumerStrategy.scala:113)\n",
      "\tat org.apache.spark.sql.kafka010.KafkaOffsetReaderAdmin.$anonfun$partitionsAssignedToAdmin$1(KafkaOffsetReaderAdmin.scala:499)\n",
      "\tat org.apache.spark.sql.kafka010.KafkaOffsetReaderAdmin.withRetries(KafkaOffsetReaderAdmin.scala:518)\n",
      "\tat org.apache.spark.sql.kafka010.KafkaOffsetReaderAdmin.partitionsAssignedToAdmin(KafkaOffsetReaderAdmin.scala:498)\n",
      "\tat org.apache.spark.sql.kafka010.KafkaOffsetReaderAdmin.fetchEarliestOffsets(KafkaOffsetReaderAdmin.scala:288)\n",
      "\tat org.apache.spark.sql.kafka010.KafkaMicroBatchStream.$anonfun$getOrCreateInitialPartitionOffsets$1(KafkaMicroBatchStream.scala:249)\n",
      "\tat scala.Option.getOrElse(Option.scala:189)\n",
      "\tat org.apache.spark.sql.kafka010.KafkaMicroBatchStream.getOrCreateInitialPartitionOffsets(KafkaMicroBatchStream.scala:246)\n",
      "\tat org.apache.spark.sql.kafka010.KafkaMicroBatchStream.initialOffset(KafkaMicroBatchStream.scala:98)\n",
      "\tat org.apache.spark.sql.execution.streaming.MicroBatchExecution.$anonfun$getStartOffset$2(MicroBatchExecution.scala:455)\n",
      "\tat scala.Option.getOrElse(Option.scala:189)\n",
      "\tat org.apache.spark.sql.execution.streaming.MicroBatchExecution.getStartOffset(MicroBatchExecution.scala:455)\n",
      "\tat org.apache.spark.sql.execution.streaming.MicroBatchExecution.$anonfun$constructNextBatch$4(MicroBatchExecution.scala:489)\n",
      "\tat org.apache.spark.sql.execution.streaming.ProgressReporter.reportTimeTaken(ProgressReporter.scala:411)\n",
      "\tat org.apache.spark.sql.execution.streaming.ProgressReporter.reportTimeTaken$(ProgressReporter.scala:409)\n",
      "\tat org.apache.spark.sql.execution.streaming.StreamExecution.reportTimeTaken(StreamExecution.scala:67)\n",
      "\tat org.apache.spark.sql.execution.streaming.MicroBatchExecution.$anonfun$constructNextBatch$2(MicroBatchExecution.scala:488)\n",
      "\tat scala.collection.TraversableLike.$anonfun$map$1(TraversableLike.scala:286)\n",
      "\tat scala.collection.Iterator.foreach(Iterator.scala:943)\n",
      "\tat scala.collection.Iterator.foreach$(Iterator.scala:943)\n",
      "\tat scala.collection.AbstractIterator.foreach(Iterator.scala:1431)\n",
      "\tat scala.collection.IterableLike.foreach(IterableLike.scala:74)\n",
      "\tat scala.collection.IterableLike.foreach$(IterableLike.scala:73)\n",
      "\tat scala.collection.AbstractIterable.foreach(Iterable.scala:56)\n",
      "\tat scala.collection.TraversableLike.map(TraversableLike.scala:286)\n",
      "\tat scala.collection.TraversableLike.map$(TraversableLike.scala:279)\n",
      "\tat scala.collection.AbstractTraversable.map(Traversable.scala:108)\n",
      "\tat org.apache.spark.sql.execution.streaming.MicroBatchExecution.$anonfun$constructNextBatch$1(MicroBatchExecution.scala:477)\n",
      "\tat scala.runtime.java8.JFunction0$mcZ$sp.apply(JFunction0$mcZ$sp.java:23)\n",
      "\tat org.apache.spark.sql.execution.streaming.MicroBatchExecution.withProgressLocked(MicroBatchExecution.scala:802)\n",
      "\tat org.apache.spark.sql.execution.streaming.MicroBatchExecution.constructNextBatch(MicroBatchExecution.scala:473)\n",
      "\tat org.apache.spark.sql.execution.streaming.MicroBatchExecution.$anonfun$runActivatedStream$2(MicroBatchExecution.scala:266)\n",
      "\tat scala.runtime.java8.JFunction0$mcV$sp.apply(JFunction0$mcV$sp.java:23)\n",
      "\tat org.apache.spark.sql.execution.streaming.ProgressReporter.reportTimeTaken(ProgressReporter.scala:411)\n",
      "\tat org.apache.spark.sql.execution.streaming.ProgressReporter.reportTimeTaken$(ProgressReporter.scala:409)\n",
      "\tat org.apache.spark.sql.execution.streaming.StreamExecution.reportTimeTaken(StreamExecution.scala:67)\n",
      "\tat org.apache.spark.sql.execution.streaming.MicroBatchExecution.$anonfun$runActivatedStream$1(MicroBatchExecution.scala:247)\n",
      "\tat org.apache.spark.sql.execution.streaming.ProcessingTimeExecutor.execute(TriggerExecutor.scala:67)\n",
      "\tat org.apache.spark.sql.execution.streaming.MicroBatchExecution.runActivatedStream(MicroBatchExecution.scala:237)\n",
      "\tat org.apache.spark.sql.execution.streaming.StreamExecution.$anonfun$runStream$1(StreamExecution.scala:306)\n",
      "\tat scala.runtime.java8.JFunction0$mcV$sp.apply(JFunction0$mcV$sp.java:23)\n",
      "\tat org.apache.spark.sql.SparkSession.withActive(SparkSession.scala:827)\n",
      "\tat org.apache.spark.sql.execution.streaming.StreamExecution.org$apache$spark$sql$execution$streaming$StreamExecution$$runStream(StreamExecution.scala:284)\n",
      "\tat org.apache.spark.sql.execution.streaming.StreamExecution$$anon$1.run(StreamExecution.scala:207)\n",
      "Caused by: org.apache.kafka.common.errors.TimeoutException: Timed out waiting for a node assignment. Call: describeTopics\n",
      "ERROR:root:KeyboardInterrupt while sending command.\n",
      "Traceback (most recent call last):\n",
      "  File \"/opt/bitnami/python/lib/python3.11/site-packages/py4j/java_gateway.py\", line 1038, in send_command\n",
      "    response = connection.send_command(command)\n",
      "               ^^^^^^^^^^^^^^^^^^^^^^^^^^^^^^^^\n",
      "  File \"/opt/bitnami/python/lib/python3.11/site-packages/py4j/clientserver.py\", line 511, in send_command\n",
      "    answer = smart_decode(self.stream.readline()[:-1])\n",
      "                          ^^^^^^^^^^^^^^^^^^^^^^\n",
      "  File \"/opt/bitnami/python/lib/python3.11/socket.py\", line 706, in readinto\n",
      "    return self._sock.recv_into(b)\n",
      "           ^^^^^^^^^^^^^^^^^^^^^^^\n",
      "KeyboardInterrupt\n"
     ]
    },
    {
     "ename": "KeyboardInterrupt",
     "evalue": "",
     "output_type": "error",
     "traceback": [
      "\u001b[31m---------------------------------------------------------------------------\u001b[39m",
      "\u001b[31mKeyboardInterrupt\u001b[39m                         Traceback (most recent call last)",
      "\u001b[36mCell\u001b[39m\u001b[36m \u001b[39m\u001b[32mIn[33]\u001b[39m\u001b[32m, line 14\u001b[39m\n\u001b[32m      7\u001b[39m df_stream = spark.readStream.format(\u001b[33m\"\u001b[39m\u001b[33mkafka\u001b[39m\u001b[33m\"\u001b[39m) \\\n\u001b[32m      8\u001b[39m     .option(\u001b[33m'\u001b[39m\u001b[33mkafka.bootstrap.servers\u001b[39m\u001b[33m'\u001b[39m, \u001b[33m'\u001b[39m\u001b[33mkafka:9092\u001b[39m\u001b[33m'\u001b[39m) \\\n\u001b[32m      9\u001b[39m     .option(\u001b[33m'\u001b[39m\u001b[33msubscribe\u001b[39m\u001b[33m'\u001b[39m, \u001b[33m'\u001b[39m\u001b[33mtopic-persons\u001b[39m\u001b[33m'\u001b[39m) \\\n\u001b[32m     10\u001b[39m     .option(\u001b[33m'\u001b[39m\u001b[33mstartingOffsets\u001b[39m\u001b[33m'\u001b[39m, \u001b[33m'\u001b[39m\u001b[33mearliest\u001b[39m\u001b[33m'\u001b[39m) \\\n\u001b[32m     11\u001b[39m     .load()\n\u001b[32m     13\u001b[39m query = df_stream.writeStream.format(\u001b[33m\"\u001b[39m\u001b[33mconsole\u001b[39m\u001b[33m\"\u001b[39m).start()\n\u001b[32m---> \u001b[39m\u001b[32m14\u001b[39m \u001b[43mquery\u001b[49m\u001b[43m.\u001b[49m\u001b[43mawaitTermination\u001b[49m\u001b[43m(\u001b[49m\u001b[43m)\u001b[49m\n",
      "\u001b[36mFile \u001b[39m\u001b[32m~opt/bitnami/spark/python/pyspark/sql/streaming/query.py:201\u001b[39m, in \u001b[36mStreamingQuery.awaitTermination\u001b[39m\u001b[34m(self, timeout)\u001b[39m\n\u001b[32m    199\u001b[39m     \u001b[38;5;28;01mreturn\u001b[39;00m \u001b[38;5;28mself\u001b[39m._jsq.awaitTermination(\u001b[38;5;28mint\u001b[39m(timeout * \u001b[32m1000\u001b[39m))\n\u001b[32m    200\u001b[39m \u001b[38;5;28;01melse\u001b[39;00m:\n\u001b[32m--> \u001b[39m\u001b[32m201\u001b[39m     \u001b[38;5;28;01mreturn\u001b[39;00m \u001b[38;5;28;43mself\u001b[39;49m\u001b[43m.\u001b[49m\u001b[43m_jsq\u001b[49m\u001b[43m.\u001b[49m\u001b[43mawaitTermination\u001b[49m\u001b[43m(\u001b[49m\u001b[43m)\u001b[49m\n",
      "\u001b[36mFile \u001b[39m\u001b[32m~opt/bitnami/python/lib/python3.11/site-packages/py4j/java_gateway.py:1321\u001b[39m, in \u001b[36mJavaMember.__call__\u001b[39m\u001b[34m(self, *args)\u001b[39m\n\u001b[32m   1314\u001b[39m args_command, temp_args = \u001b[38;5;28mself\u001b[39m._build_args(*args)\n\u001b[32m   1316\u001b[39m command = proto.CALL_COMMAND_NAME +\\\n\u001b[32m   1317\u001b[39m     \u001b[38;5;28mself\u001b[39m.command_header +\\\n\u001b[32m   1318\u001b[39m     args_command +\\\n\u001b[32m   1319\u001b[39m     proto.END_COMMAND_PART\n\u001b[32m-> \u001b[39m\u001b[32m1321\u001b[39m answer = \u001b[38;5;28;43mself\u001b[39;49m\u001b[43m.\u001b[49m\u001b[43mgateway_client\u001b[49m\u001b[43m.\u001b[49m\u001b[43msend_command\u001b[49m\u001b[43m(\u001b[49m\u001b[43mcommand\u001b[49m\u001b[43m)\u001b[49m\n\u001b[32m   1322\u001b[39m return_value = get_return_value(\n\u001b[32m   1323\u001b[39m     answer, \u001b[38;5;28mself\u001b[39m.gateway_client, \u001b[38;5;28mself\u001b[39m.target_id, \u001b[38;5;28mself\u001b[39m.name)\n\u001b[32m   1325\u001b[39m \u001b[38;5;28;01mfor\u001b[39;00m temp_arg \u001b[38;5;129;01min\u001b[39;00m temp_args:\n",
      "\u001b[36mFile \u001b[39m\u001b[32m~opt/bitnami/python/lib/python3.11/site-packages/py4j/java_gateway.py:1038\u001b[39m, in \u001b[36mGatewayClient.send_command\u001b[39m\u001b[34m(self, command, retry, binary)\u001b[39m\n\u001b[32m   1036\u001b[39m connection = \u001b[38;5;28mself\u001b[39m._get_connection()\n\u001b[32m   1037\u001b[39m \u001b[38;5;28;01mtry\u001b[39;00m:\n\u001b[32m-> \u001b[39m\u001b[32m1038\u001b[39m     response = \u001b[43mconnection\u001b[49m\u001b[43m.\u001b[49m\u001b[43msend_command\u001b[49m\u001b[43m(\u001b[49m\u001b[43mcommand\u001b[49m\u001b[43m)\u001b[49m\n\u001b[32m   1039\u001b[39m     \u001b[38;5;28;01mif\u001b[39;00m binary:\n\u001b[32m   1040\u001b[39m         \u001b[38;5;28;01mreturn\u001b[39;00m response, \u001b[38;5;28mself\u001b[39m._create_connection_guard(connection)\n",
      "\u001b[36mFile \u001b[39m\u001b[32m~opt/bitnami/python/lib/python3.11/site-packages/py4j/clientserver.py:511\u001b[39m, in \u001b[36mClientServerConnection.send_command\u001b[39m\u001b[34m(self, command)\u001b[39m\n\u001b[32m    509\u001b[39m \u001b[38;5;28;01mtry\u001b[39;00m:\n\u001b[32m    510\u001b[39m     \u001b[38;5;28;01mwhile\u001b[39;00m \u001b[38;5;28;01mTrue\u001b[39;00m:\n\u001b[32m--> \u001b[39m\u001b[32m511\u001b[39m         answer = smart_decode(\u001b[38;5;28mself\u001b[39m.stream.readline()[:-\u001b[32m1\u001b[39m])\n\u001b[32m    512\u001b[39m         logger.debug(\u001b[33m\"\u001b[39m\u001b[33mAnswer received: \u001b[39m\u001b[38;5;132;01m{0}\u001b[39;00m\u001b[33m\"\u001b[39m.format(answer))\n\u001b[32m    513\u001b[39m         \u001b[38;5;66;03m# Happens when a the other end is dead. There might be an empty\u001b[39;00m\n\u001b[32m    514\u001b[39m         \u001b[38;5;66;03m# answer before the socket raises an error.\u001b[39;00m\n",
      "\u001b[36mFile \u001b[39m\u001b[32m~opt/bitnami/python/lib/python3.11/socket.py:706\u001b[39m, in \u001b[36mSocketIO.readinto\u001b[39m\u001b[34m(self, b)\u001b[39m\n\u001b[32m    704\u001b[39m \u001b[38;5;28;01mwhile\u001b[39;00m \u001b[38;5;28;01mTrue\u001b[39;00m:\n\u001b[32m    705\u001b[39m     \u001b[38;5;28;01mtry\u001b[39;00m:\n\u001b[32m--> \u001b[39m\u001b[32m706\u001b[39m         \u001b[38;5;28;01mreturn\u001b[39;00m \u001b[38;5;28;43mself\u001b[39;49m\u001b[43m.\u001b[49m\u001b[43m_sock\u001b[49m\u001b[43m.\u001b[49m\u001b[43mrecv_into\u001b[49m\u001b[43m(\u001b[49m\u001b[43mb\u001b[49m\u001b[43m)\u001b[49m\n\u001b[32m    707\u001b[39m     \u001b[38;5;28;01mexcept\u001b[39;00m timeout:\n\u001b[32m    708\u001b[39m         \u001b[38;5;28mself\u001b[39m._timeout_occurred = \u001b[38;5;28;01mTrue\u001b[39;00m\n",
      "\u001b[31mKeyboardInterrupt\u001b[39m: "
     ]
    }
   ],
   "source": [
    "from pyspark.sql import SparkSession\n",
    "from pyspark.sql.functions import from_json\n",
    "\n",
    "spark = SparkSession.builder.appName(\"SparkStreamingDemo\").getOrCreate()\n",
    "\n",
    "# subscribe au topic 'persons'\n",
    "df_stream = spark.readStream.format(\"kafka\") \\\n",
    "    .option('kafka.bootstrap.servers', 'kafka:9092') \\\n",
    "    .option('subscribe', 'topic-persons') \\\n",
    "    .option('startingOffsets', 'earliest') \\\n",
    "    .load()\n",
    "\n",
    "query = df_stream.writeStream.format(\"console\").start()\n",
    "query.awaitTermination()"
   ]
  },
  {
   "cell_type": "markdown",
   "id": "90c1702e5a577c33",
   "metadata": {},
   "source": [
    "# Exercice\n",
    "\n",
    "1) Créer un topic kafka avec KafkaAdminClient.\n",
    "2) Se connecter en stream sur le topic avec Spark\n",
    "3) Envoyer les données présentes dans person.json dans le topic avec KafkaProducer\n"
   ]
  },
  {
   "cell_type": "code",
   "execution_count": 34,
   "id": "5f5b1c4359e6a1ff",
   "metadata": {
    "ExecuteTime": {
     "end_time": "2025-10-07T11:25:23.283051Z",
     "start_time": "2025-10-07T11:25:23.262503Z"
    }
   },
   "outputs": [],
   "source": [
    "kafka_server = 'kafka:9092'"
   ]
  },
  {
   "cell_type": "code",
   "execution_count": 43,
   "id": "ba9db76c19e9b428",
   "metadata": {
    "ExecuteTime": {
     "end_time": "2025-10-07T11:27:02.171796Z",
     "start_time": "2025-10-07T11:27:01.945083Z"
    }
   },
   "outputs": [
    {
     "name": "stdout",
     "output_type": "stream",
     "text": [
      "-------------------------------------------\n",
      "Batch: 1\n",
      "-------------------------------------------\n",
      "-------------------------------------------\n",
      "Batch: 1\n",
      "-------------------------------------------\n",
      "+--------------------+\n",
      "|               value|\n",
      "+--------------------+\n",
      "|{\"id\": 1, \"name\":...|\n",
      "|{\"id\": 2, \"name\":...|\n",
      "|{\"id\": 3, \"name\":...|\n",
      "|{\"id\": 4, \"name\":...|\n",
      "|{\"id\": 5, \"name\":...|\n",
      "|{\"id\": 6, \"name\":...|\n",
      "|{\"id\": 7, \"name\":...|\n",
      "|{\"id\": 8, \"name\":...|\n",
      "|{\"id\": 9, \"name\":...|\n",
      "|{\"id\": 10, \"name\"...|\n",
      "|{\"id\": 11, \"name\"...|\n",
      "|{\"id\": 12, \"name\"...|\n",
      "|{\"id\": 13, \"name\"...|\n",
      "|{\"id\": 14, \"name\"...|\n",
      "|{\"id\": 15, \"name\"...|\n",
      "|{\"id\": 16, \"name\"...|\n",
      "|{\"id\": 17, \"name\"...|\n",
      "|{\"id\": 18, \"name\"...|\n",
      "|{\"id\": 19, \"name\"...|\n",
      "|{\"id\": 20, \"name\"...|\n",
      "+--------------------+\n",
      "only showing top 20 rows\n",
      "\n",
      "+----+--------------------+-------+---------+------+--------------------+-------------+\n",
      "| key|               value|  topic|partition|offset|           timestamp|timestampType|\n",
      "+----+--------------------+-------+---------+------+--------------------+-------------+\n",
      "|null|[7B 22 69 64 22 3...|persons|        0|    50|2025-10-07 12:04:...|            0|\n",
      "|null|[7B 22 69 64 22 3...|persons|        0|    51|2025-10-07 12:04:...|            0|\n",
      "|null|[7B 22 69 64 22 3...|persons|        0|    52|2025-10-07 12:04:...|            0|\n",
      "|null|[7B 22 69 64 22 3...|persons|        0|    53|2025-10-07 12:04:...|            0|\n",
      "|null|[7B 22 69 64 22 3...|persons|        0|    54|2025-10-07 12:04:...|            0|\n",
      "|null|[7B 22 69 64 22 3...|persons|        0|    55|2025-10-07 12:04:...|            0|\n",
      "|null|[7B 22 69 64 22 3...|persons|        0|    56|2025-10-07 12:04:...|            0|\n",
      "|null|[7B 22 69 64 22 3...|persons|        0|    57|2025-10-07 12:04:...|            0|\n",
      "|null|[7B 22 69 64 22 3...|persons|        0|    58|2025-10-07 12:04:...|            0|\n",
      "|null|[7B 22 69 64 22 3...|persons|        0|    59|2025-10-07 12:04:...|            0|\n",
      "|null|[7B 22 69 64 22 3...|persons|        0|    60|2025-10-07 12:04:...|            0|\n",
      "|null|[7B 22 69 64 22 3...|persons|        0|    61|2025-10-07 12:04:...|            0|\n",
      "|null|[7B 22 69 64 22 3...|persons|        0|    62|2025-10-07 12:04:...|            0|\n",
      "|null|[7B 22 69 64 22 3...|persons|        0|    63|2025-10-07 12:04:...|            0|\n",
      "|null|[7B 22 69 64 22 3...|persons|        0|    64|2025-10-07 12:04:...|            0|\n",
      "|null|[7B 22 69 64 22 3...|persons|        0|    65|2025-10-07 12:04:...|            0|\n",
      "|null|[7B 22 69 64 22 3...|persons|        0|    66|2025-10-07 12:04:...|            0|\n",
      "|null|[7B 22 69 64 22 3...|persons|        0|    67|2025-10-07 12:04:...|            0|\n",
      "|null|[7B 22 69 64 22 3...|persons|        0|    68|2025-10-07 12:04:...|            0|\n",
      "|null|[7B 22 69 64 22 3...|persons|        0|    69|2025-10-07 12:04:...|            0|\n",
      "+----+--------------------+-------+---------+------+--------------------+-------------+\n",
      "only showing top 20 rows\n",
      "\n"
     ]
    }
   ],
   "source": [
    "import json\n",
    "from kafka.admin import KafkaAdminClient, NewTopic\n",
    "from kafka import KafkaProducer\n",
    "\n",
    "topic = 'persons'\n",
    "\n",
    "admin = KafkaAdminClient(bootstrap_servers=kafka_server)\n",
    "topic_list = admin.list_topics()\n",
    "if topic not in topic_list:\n",
    "    new_topic = NewTopic(name=topic, num_partitions=1, replication_factor=1)\n",
    "    admin.create_topics(new_topics=[new_topic])\n",
    "\n",
    "producer = KafkaProducer(bootstrap_servers=[kafka_server], value_serializer=lambda v: json.dumps(v).encode('utf-8'))\n",
    "\n",
    "with open('data/persons.json', 'r') as file:\n",
    "    persons = json.load(file)\n",
    "    for person in persons:\n",
    "        producer.send(topic, value=person)\n",
    "\n",
    "    producer.flush()\n",
    "\n",
    "producer.close()"
   ]
  },
  {
   "cell_type": "code",
   "execution_count": 44,
   "id": "2611ba748ed3c8dc",
   "metadata": {
    "ExecuteTime": {
     "end_time": "2025-10-07T11:27:15.905118Z",
     "start_time": "2025-10-07T11:27:05.710574Z"
    }
   },
   "outputs": [
    {
     "name": "stderr",
     "output_type": "stream",
     "text": [
      "25/10/07 12:04:56 WARN SparkSession: Using an existing Spark session; only runtime SQL configurations will take effect.\n",
      "25/10/07 12:04:56 WARN ResolveWriteToStream: Temporary checkpoint location created which is deleted normally when the query didn't fail: /tmp/temporary-1d16e871-822a-4342-878a-b56d775410e1. If it's required to delete it under any circumstances, please set spark.sql.streaming.forceDeleteTempCheckpointLocation to true. Important to know deleting temp checkpoint folder is best effort.\n",
      "25/10/07 12:04:56 WARN ResolveWriteToStream: spark.sql.adaptive.enabled is not supported in streaming DataFrames/Datasets and will be disabled.\n"
     ]
    },
    {
     "name": "stdout",
     "output_type": "stream",
     "text": [
      "-------------------------------------------\n",
      "Batch: 0\n",
      "-------------------------------------------\n",
      "+----+--------------------+-------+---------+------+--------------------+-------------+\n",
      "| key|               value|  topic|partition|offset|           timestamp|timestampType|\n",
      "+----+--------------------+-------+---------+------+--------------------+-------------+\n",
      "|null|[7B 22 69 64 22 3...|persons|        0|     0|2025-10-07 11:57:...|            0|\n",
      "|null|[7B 22 69 64 22 3...|persons|        0|     1|2025-10-07 11:57:...|            0|\n",
      "|null|[7B 22 69 64 22 3...|persons|        0|     2|2025-10-07 11:57:...|            0|\n",
      "|null|[7B 22 69 64 22 3...|persons|        0|     3|2025-10-07 11:57:...|            0|\n",
      "|null|[7B 22 69 64 22 3...|persons|        0|     4|2025-10-07 11:57:...|            0|\n",
      "|null|[7B 22 69 64 22 3...|persons|        0|     5|2025-10-07 11:57:...|            0|\n",
      "|null|[7B 22 69 64 22 3...|persons|        0|     6|2025-10-07 11:57:...|            0|\n",
      "|null|[7B 22 69 64 22 3...|persons|        0|     7|2025-10-07 11:57:...|            0|\n",
      "|null|[7B 22 69 64 22 3...|persons|        0|     8|2025-10-07 11:57:...|            0|\n",
      "|null|[7B 22 69 64 22 3...|persons|        0|     9|2025-10-07 11:57:...|            0|\n",
      "|null|[7B 22 69 64 22 3...|persons|        0|    10|2025-10-07 11:57:...|            0|\n",
      "|null|[7B 22 69 64 22 3...|persons|        0|    11|2025-10-07 11:57:...|            0|\n",
      "|null|[7B 22 69 64 22 3...|persons|        0|    12|2025-10-07 11:57:...|            0|\n",
      "|null|[7B 22 69 64 22 3...|persons|        0|    13|2025-10-07 11:57:...|            0|\n",
      "|null|[7B 22 69 64 22 3...|persons|        0|    14|2025-10-07 11:57:...|            0|\n",
      "|null|[7B 22 69 64 22 3...|persons|        0|    15|2025-10-07 11:57:...|            0|\n",
      "|null|[7B 22 69 64 22 3...|persons|        0|    16|2025-10-07 11:57:...|            0|\n",
      "|null|[7B 22 69 64 22 3...|persons|        0|    17|2025-10-07 11:57:...|            0|\n",
      "|null|[7B 22 69 64 22 3...|persons|        0|    18|2025-10-07 11:57:...|            0|\n",
      "|null|[7B 22 69 64 22 3...|persons|        0|    19|2025-10-07 11:57:...|            0|\n",
      "+----+--------------------+-------+---------+------+--------------------+-------------+\n",
      "only showing top 20 rows\n",
      "\n"
     ]
    },
    {
     "data": {
      "text/plain": [
       "False"
      ]
     },
     "execution_count": 44,
     "metadata": {},
     "output_type": "execute_result"
    }
   ],
   "source": [
    "from pyspark.sql import SparkSession\n",
    "topic = 'persons'\n",
    "spark = SparkSession.builder.appName(\"SparkStreamingDemo\").getOrCreate()\n",
    "df_stream = spark.readStream.format(\"kafka\") \\\n",
    "    .option('kafka.bootstrap.servers', kafka_server) \\\n",
    "    .option('subscribe', topic) \\\n",
    "    .option('startingOffsets', 'earliest') \\\n",
    "    .load()\n",
    "\n",
    "query = df_stream.writeStream.format(\"console\").start()\n",
    "query.awaitTermination(10)"
   ]
  },
  {
   "cell_type": "markdown",
   "id": "988ef17dfbf989b",
   "metadata": {},
   "source": [
    "# Afficher uniquement la valeur (value) du message Kafka en string"
   ]
  },
  {
   "cell_type": "code",
   "execution_count": 45,
   "id": "dba200ffd3f74504",
   "metadata": {
    "ExecuteTime": {
     "end_time": "2025-10-07T08:45:28.983205Z",
     "start_time": "2025-10-07T08:45:18.772466Z"
    }
   },
   "outputs": [
    {
     "name": "stderr",
     "output_type": "stream",
     "text": [
      "25/10/07 12:05:07 WARN ResolveWriteToStream: Temporary checkpoint location created which is deleted normally when the query didn't fail: /tmp/temporary-a877310a-f9aa-412b-aa9f-46d9c34b2dd5. If it's required to delete it under any circumstances, please set spark.sql.streaming.forceDeleteTempCheckpointLocation to true. Important to know deleting temp checkpoint folder is best effort.\n",
      "25/10/07 12:05:07 WARN ResolveWriteToStream: spark.sql.adaptive.enabled is not supported in streaming DataFrames/Datasets and will be disabled.\n"
     ]
    },
    {
     "name": "stdout",
     "output_type": "stream",
     "text": [
      "-------------------------------------------\n",
      "Batch: 0\n",
      "-------------------------------------------\n",
      "+--------------------+\n",
      "|               value|\n",
      "+--------------------+\n",
      "|{\"id\": 1, \"name\":...|\n",
      "|{\"id\": 2, \"name\":...|\n",
      "|{\"id\": 3, \"name\":...|\n",
      "|{\"id\": 4, \"name\":...|\n",
      "|{\"id\": 5, \"name\":...|\n",
      "|{\"id\": 6, \"name\":...|\n",
      "|{\"id\": 7, \"name\":...|\n",
      "|{\"id\": 8, \"name\":...|\n",
      "|{\"id\": 9, \"name\":...|\n",
      "|{\"id\": 10, \"name\"...|\n",
      "|{\"id\": 11, \"name\"...|\n",
      "|{\"id\": 12, \"name\"...|\n",
      "|{\"id\": 13, \"name\"...|\n",
      "|{\"id\": 14, \"name\"...|\n",
      "|{\"id\": 15, \"name\"...|\n",
      "|{\"id\": 16, \"name\"...|\n",
      "|{\"id\": 17, \"name\"...|\n",
      "|{\"id\": 18, \"name\"...|\n",
      "|{\"id\": 19, \"name\"...|\n",
      "|{\"id\": 20, \"name\"...|\n",
      "+--------------------+\n",
      "only showing top 20 rows\n",
      "\n"
     ]
    },
    {
     "data": {
      "text/plain": [
       "False"
      ]
     },
     "execution_count": 45,
     "metadata": {},
     "output_type": "execute_result"
    }
   ],
   "source": [
    "from pyspark.sql import SparkSession\n",
    "\n",
    "spark = SparkSession.builder.appName(\"SparkStreamingDemo\").getOrCreate()\n",
    "df_stream = spark.readStream.format(\"kafka\") \\\n",
    "    .option('kafka.bootstrap.servers', kafka_server) \\\n",
    "    .option('subscribe', topic) \\\n",
    "    .option('startingOffsets', 'earliest') \\\n",
    "    .load()\n",
    "\n",
    "# Afficher uniquement la valeur (value) du message Kafka en string\n",
    "lines = df_stream.selectExpr(\"CAST(value AS STRING)\")\n",
    "\n",
    "query = lines.writeStream.format(\"console\").start()\n",
    "query.awaitTermination(10)"
   ]
  },
  {
   "cell_type": "markdown",
   "id": "f36a345efaa6281e",
   "metadata": {},
   "source": [
    "# Faire une execution ligne par ligne"
   ]
  },
  {
   "cell_type": "code",
   "execution_count": 46,
   "id": "6bc2ef82b22a014",
   "metadata": {
    "ExecuteTime": {
     "end_time": "2025-10-07T11:28:09.560365Z",
     "start_time": "2025-10-07T11:27:59.383819Z"
    }
   },
   "outputs": [
    {
     "name": "stderr",
     "output_type": "stream",
     "text": [
      "25/10/07 12:05:24 WARN SparkSession: Using an existing Spark session; only runtime SQL configurations will take effect.\n",
      "25/10/07 12:05:24 WARN ResolveWriteToStream: Temporary checkpoint location created which is deleted normally when the query didn't fail: /tmp/temporary-850de7a9-97d2-4e7e-bf44-86ef2248e7cf. If it's required to delete it under any circumstances, please set spark.sql.streaming.forceDeleteTempCheckpointLocation to true. Important to know deleting temp checkpoint folder is best effort.\n",
      "25/10/07 12:05:24 WARN ResolveWriteToStream: spark.sql.adaptive.enabled is not supported in streaming DataFrames/Datasets and will be disabled.\n"
     ]
    }
   ],
   "source": [
    "from pyspark.sql import SparkSession\n",
    "\n",
    "spark = SparkSession.builder.appName(\"SparkExample3\").getOrCreate()\n",
    "df_stream = spark.readStream.format(\"kafka\") \\\n",
    "    .option('kafka.bootstrap.servers', kafka_server) \\\n",
    "    .option('subscribe', topic) \\\n",
    "    .option('startingOffsets', 'earliest') \\\n",
    "    .load()\n",
    "\n",
    "def process_batch(batch_df, batch_id):\n",
    "    batch_df.write.format(\"jdbc\") \\\n",
    "        .option(\"url\", \"jdbc:postgresql://postgres:5432/events\") \\\n",
    "        .option(\"dbtable\", \"public.raw_persons\") \\\n",
    "        .option(\"user\", \"app\") \\\n",
    "        .option(\"password\", \"1234\") \\\n",
    "        .mode(\"append\") \\\n",
    "        .save()\n",
    "\n",
    "query = df_stream.writeStream \\\n",
    "    .foreachBatch(process_batch) \\\n",
    "    .start()\n",
    "query.awaitTermination(10)\n",
    "query.stop()"
   ]
  },
  {
   "cell_type": "markdown",
   "id": "578e8959ddd4c6f6",
   "metadata": {},
   "source": [
    "# Formater les données JSON reçues"
   ]
  },
  {
   "cell_type": "code",
   "execution_count": 47,
   "id": "64e3f5ba004b6bda",
   "metadata": {
    "ExecuteTime": {
     "end_time": "2025-10-07T11:29:37.270172Z",
     "start_time": "2025-10-07T11:29:27.036523Z"
    }
   },
   "outputs": [
    {
     "name": "stderr",
     "output_type": "stream",
     "text": [
      "25/10/07 12:06:22 WARN ResolveWriteToStream: Temporary checkpoint location created which is deleted normally when the query didn't fail: /tmp/temporary-ad3272fa-a0db-44d6-86bf-9be9cd8761bb. If it's required to delete it under any circumstances, please set spark.sql.streaming.forceDeleteTempCheckpointLocation to true. Important to know deleting temp checkpoint folder is best effort.\n",
      "25/10/07 12:06:22 WARN ResolveWriteToStream: spark.sql.adaptive.enabled is not supported in streaming DataFrames/Datasets and will be disabled.\n"
     ]
    }
   ],
   "source": [
    "from pyspark.sql import SparkSession\n",
    "from pyspark.sql.functions import from_json, col\n",
    "from pyspark.sql.types import StructType, StructField, StringType, IntegerType\n",
    "\n",
    "spark = SparkSession.builder.appName(\"SparkExample3\").getOrCreate()\n",
    "df_stream = spark.readStream.format(\"kafka\") \\\n",
    "    .option('kafka.bootstrap.servers', kafka_server) \\\n",
    "    .option('subscribe', topic) \\\n",
    "    .option('startingOffsets', 'earliest') \\\n",
    "    .load()\n",
    "\n",
    "schema = StructType([\n",
    "    StructField(\"id\", IntegerType(), False),\n",
    "    StructField(\"name\", StringType(), False),\n",
    "    StructField(\"age\", IntegerType(), False),\n",
    "    StructField(\"city\", StringType(), False)\n",
    "])\n",
    "\n",
    "lines = df_stream.selectExpr(\"CAST(value AS STRING) as json_str\") \\\n",
    "    .select(from_json(col(\"json_str\"), schema).alias(\"data\")) \\\n",
    "    .select(\"data.*\")\n",
    "\n",
    "def process_batch(batch_df, batch_id):\n",
    "    batch_df.write.format(\"jdbc\") \\\n",
    "        .option(\"url\", \"jdbc:postgresql://postgres:5432/events\") \\\n",
    "        .option(\"dbtable\", \"public.persons2\") \\\n",
    "        .option(\"user\", \"app\") \\\n",
    "        .option(\"password\", \"1234\") \\\n",
    "        .mode(\"append\") \\\n",
    "        .save()\n",
    "\n",
    "query = lines.writeStream \\\n",
    "    .foreachBatch(process_batch) \\\n",
    "    .start()\n",
    "query.awaitTermination(10)\n",
    "query.stop()"
   ]
  },
  {
   "cell_type": "code",
   "execution_count": 54,
   "id": "d624a2dc",
   "metadata": {},
   "outputs": [
    {
     "name": "stderr",
     "output_type": "stream",
     "text": [
      "25/10/07 13:18:09 WARN ResolveWriteToStream: spark.sql.adaptive.enabled is not supported in streaming DataFrames/Datasets and will be disabled.\n",
      "25/10/07 13:18:10 WARN NetworkClient: [Producer clientId=producer-1] Error while fetching metadata with correlation id 1 : {persons-silver=LEADER_NOT_AVAILABLE}\n",
      "                                                                                \r"
     ]
    },
    {
     "data": {
      "text/plain": [
       "False"
      ]
     },
     "execution_count": 54,
     "metadata": {},
     "output_type": "execute_result"
    }
   ],
   "source": [
    "silver_to_kafka = lines.select(col('id').cast('string').alias('value')) \\\n",
    "    .writeStream.format('kafka') \\\n",
    "    .option('kafka.bootstrap.servers', 'kafka:9092') \\\n",
    "    .option('topic', 'persons-silver') \\\n",
    "    .option('checkpointLocation', '/tmp/checkpoint') \\\n",
    "    .start()\n",
    "    \n",
    "silver_to_kafka.awaitTermination(10)\n"
   ]
  },
  {
   "cell_type": "code",
   "execution_count": 63,
   "id": "ca9dfad5",
   "metadata": {},
   "outputs": [
    {
     "name": "stdout",
     "output_type": "stream",
     "text": [
      "+---+---------+---+----------+\n",
      "| id|     name|age|      city|\n",
      "+---+---------+---+----------+\n",
      "|  1|    Alice| 30|     Paris|\n",
      "|  2|      Bob| 25|      Lyon|\n",
      "|  3|   Céline| 35| Marseille|\n",
      "|  4|    David| 28|     Paris|\n",
      "|  5|     Emma| 40|  Bordeaux|\n",
      "|  6| François| 22|      Nice|\n",
      "|  7|Gabrielle| 31|Strasbourg|\n",
      "|  8|     Hugo| 27|     Lille|\n",
      "|  9|     Inès| 29|    Nantes|\n",
      "| 10|   Julien| 33|  Toulouse|\n",
      "+---+---------+---+----------+\n",
      "only showing top 10 rows\n",
      "\n"
     ]
    }
   ],
   "source": [
    "df_persons = spark.read.format('jdbc')\\\n",
    "        .option(\"url\", \"jdbc:postgresql://postgres:5432/events\") \\\n",
    "        .option(\"dbtable\", \"public.persons2\") \\\n",
    "        .option(\"user\", \"app\") \\\n",
    "        .option(\"password\", \"1234\") \\\n",
    "        .load()\n",
    "\n",
    "df.show(10)"
   ]
  },
  {
   "cell_type": "code",
   "execution_count": 62,
   "id": "ce19e8e9",
   "metadata": {},
   "outputs": [
    {
     "name": "stdout",
     "output_type": "stream",
     "text": [
      "+---+------+---+----------+\n",
      "| id|  name|age|      city|\n",
      "+---+------+---+----------+\n",
      "|  1| Alice| 30|     Paris|\n",
      "| 27|Adrien| 33|Strasbourg|\n",
      "|  1| Alice| 30|     Paris|\n",
      "| 27|Adrien| 33|Strasbourg|\n",
      "+---+------+---+----------+\n",
      "\n"
     ]
    }
   ],
   "source": [
    "from pyspark.sql import functions as F\n",
    "\n",
    "pers = df_persons.filter(F.col('name').rlike('^[Aa]'))\n",
    "\n",
    "pers.show()"
   ]
  }
 ],
 "metadata": {
  "kernelspec": {
   "display_name": "Python 3",
   "language": "python",
   "name": "python3"
  },
  "language_info": {
   "codemirror_mode": {
    "name": "ipython",
    "version": 2
   },
   "file_extension": ".py",
   "mimetype": "text/x-python",
   "name": "python",
   "nbconvert_exporter": "python",
   "pygments_lexer": "ipython2",
   "version": "2.7.6"
  }
 },
 "nbformat": 4,
 "nbformat_minor": 5
}
